{
 "cells": [
  {
   "cell_type": "code",
   "execution_count": 1,
   "metadata": {},
   "outputs": [],
   "source": [
    "from json import loads\n",
    "import os\n",
    "import pandas as pd\n",
    "import numpy as np\n",
    "import matplotlib.pyplot as plt"
   ]
  },
  {
   "cell_type": "code",
   "execution_count": 2,
   "metadata": {},
   "outputs": [],
   "source": [
    "tweet_data = './ECE219_tweet_data/'"
   ]
  },
  {
   "attachments": {},
   "cell_type": "markdown",
   "metadata": {},
   "source": [
    "## Question 9.1"
   ]
  },
  {
   "cell_type": "code",
   "execution_count": 3,
   "metadata": {},
   "outputs": [
    {
     "name": "stdout",
     "output_type": "stream",
     "text": [
      "**** Analyzing hashtag: #gohawks ****\n",
      "Avg #(tweets per h): 292.4879\n",
      "Avg #(followers): 2217.9237\n",
      "Avg #(retweets): 2.0132\n",
      "\n",
      "\n",
      "**** Analyzing hashtag: #gopatriots ****\n",
      "Avg #(tweets per h): 40.9547\n",
      "Avg #(followers): 1427.2526\n",
      "Avg #(retweets): 1.4082\n",
      "\n",
      "\n",
      "**** Analyzing hashtag: #nfl ****\n",
      "Avg #(tweets per h): 397.0214\n",
      "Avg #(followers): 4662.3754\n",
      "Avg #(retweets): 1.5345\n",
      "\n",
      "\n",
      "**** Analyzing hashtag: #patriots ****\n",
      "Avg #(tweets per h): 750.8943\n",
      "Avg #(followers): 3280.4636\n",
      "Avg #(retweets): 1.7853\n",
      "\n",
      "\n",
      "**** Analyzing hashtag: #sb49 ****\n",
      "Avg #(tweets per h): 1276.8571\n",
      "Avg #(followers): 10374.1603\n",
      "Avg #(retweets): 2.5271\n",
      "\n",
      "\n",
      "**** Analyzing hashtag: #superbowl ****\n",
      "Avg #(tweets per h): 2072.1184\n",
      "Avg #(followers): 8814.9680\n",
      "Avg #(retweets): 2.3912\n",
      "\n",
      "\n"
     ]
    }
   ],
   "source": [
    "for filename in os.listdir(tweet_data):\n",
    "    hashtag = filename.split('.')[0].split('_')[1]\n",
    "    print(f'**** Analyzing hashtag: {hashtag} ****')\n",
    "    with open( os.path.join(tweet_data, filename), encoding=\"utf8\") as fl:\n",
    "        lines = fl.readlines()  \n",
    "\n",
    "    sum_foll = 0\n",
    "    sum_rt = 0\n",
    "    t_max, t_min = -np.inf, np.inf\n",
    "    for h_line in lines:\n",
    "        hline_json = loads(h_line)\n",
    "        sum_foll += hline_json['author']['followers']\n",
    "        sum_rt += hline_json['metrics']['citations']['total']\n",
    "        t = hline_json['citation_date']\n",
    "        if t > t_max: \n",
    "            t_max = t\n",
    "        if t < t_min: \n",
    "            t_min = t            \n",
    "    tw_h = len(lines)/((t_max-t_min)/3600)            \n",
    "    avg_foll = sum_foll/len(lines)\n",
    "    avg_rt = sum_rt/len(lines)\n",
    "    print(f'Avg #(tweets per h): {tw_h:.4f}')\n",
    "    print(f'Avg #(followers): {avg_foll:.4f}')\n",
    "    print(f'Avg #(retweets): {avg_rt:.4f}\\n\\n')"
   ]
  },
  {
   "attachments": {},
   "cell_type": "markdown",
   "metadata": {},
   "source": [
    "## Question 9.2"
   ]
  },
  {
   "cell_type": "code",
   "execution_count": 4,
   "metadata": {},
   "outputs": [
    {
     "data": {
      "image/png": "[encoded data removed]",
      "text/plain": [
       "<Figure size 1080x360 with 1 Axes>"
      ]
     },
     "metadata": {
      "needs_background": "light"
     },
     "output_type": "display_data"
    },
    {
     "data": {
      "image/png": "[encoded data removed]",
      "text/plain": [
       "<Figure size 1080x360 with 1 Axes>"
      ]
     },
     "metadata": {
      "needs_background": "light"
     },
     "output_type": "display_data"
    }
   ],
   "source": [
    "for filename in os.listdir(tweet_data):\n",
    "    if ('superbowl' in filename)  or ('nfl' in filename):\n",
    "        hashtag = filename.split('.')[0].split('_')[1]\n",
    "        with open( os.path.join(tweet_data, filename), encoding=\"utf8\") as fl:\n",
    "            lines = fl.readlines()          \n",
    "\n",
    "        t_max, t_min = -np.inf, np.inf\n",
    "        t_list = []\n",
    "        for h_line in lines:            \n",
    "            hline_json = loads(h_line)\n",
    "            t = hline_json['citation_date'] // 3600\n",
    "            t_list.append(t)     \n",
    "            if t > t_max: \n",
    "                t_max = t\n",
    "            if t < t_min: \n",
    "                t_min = t      \n",
    "\n",
    "        plt.figure(figsize=(15,5))\n",
    "        bin_range = range(t_min, t_max+1)\n",
    "        plt.hist(t_list, bins=bin_range)\n",
    "        plt.title(f'#tweets in hour for hashtag {hashtag}')       \n",
    "        plt.xlabel('Time')\n",
    "        plt.show()                \n"
   ]
  },
  {
   "cell_type": "code",
   "execution_count": null,
   "metadata": {},
   "outputs": [],
   "source": []
  }
 ],
 "metadata": {
  "kernelspec": {
   "display_name": "ece219",
   "language": "python",
   "name": "python3"
  },
  "language_info": {
   "codemirror_mode": {
    "name": "ipython",
    "version": 3
   },
   "file_extension": ".py",
   "mimetype": "text/x-python",
   "name": "python",
   "nbconvert_exporter": "python",
   "pygments_lexer": "ipython3",
   "version": "3.9.16"
  },
  "orig_nbformat": 4,
  "vscode": {
   "interpreter": {
    "hash": "d1f286ac14309cd6b90e2f304f1033aebcc58f29491ebbaa69307865fad9e36a"
   }
  }
 },
 "nbformat": 4,
 "nbformat_minor": 2
}
