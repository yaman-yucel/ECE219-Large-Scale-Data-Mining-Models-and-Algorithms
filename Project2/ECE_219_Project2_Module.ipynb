{
  "nbformat": 4,
  "nbformat_minor": 0,
  "metadata": {
    "colab": {
      "provenance": []
    },
    "kernelspec": {
      "name": "python3",
      "display_name": "Python 3"
    },
    "language_info": {
      "name": "python"
    },
    "accelerator": "GPU",
    "gpuClass": "standard",
    "widgets": {
      "application/vnd.jupyter.widget-state+json": {
        "8edda1650ec04213afd2a6c691aaa87e": {
          "model_module": "@jupyter-widgets/controls",
          "model_name": "HBoxModel",
          "model_module_version": "1.5.0",
          "state": {
            "_dom_classes": [],
            "_model_module": "@jupyter-widgets/controls",
            "_model_module_version": "1.5.0",
            "_model_name": "HBoxModel",
            "_view_count": null,
            "_view_module": "@jupyter-widgets/controls",
            "_view_module_version": "1.5.0",
            "_view_name": "HBoxView",
            "box_style": "",
            "children": [
              "IPY_MODEL_29ccfcf01ba249bbb3f13c1f853be28b",
              "IPY_MODEL_18613ff8e3204520b96fdd0ee4ad3ced",
              "IPY_MODEL_b0a3de2dbbb64c9c9cb7ac3fa92868ab"
            ],
            "layout": "IPY_MODEL_8fdf3f8a236d4e8dad9a9d7e6be27dba"
          }
        },
        "29ccfcf01ba249bbb3f13c1f853be28b": {
          "model_module": "@jupyter-widgets/controls",
          "model_name": "HTMLModel",
          "model_module_version": "1.5.0",
          "state": {
            "_dom_classes": [],
            "_model_module": "@jupyter-widgets/controls",
            "_model_module_version": "1.5.0",
            "_model_name": "HTMLModel",
            "_view_count": null,
            "_view_module": "@jupyter-widgets/controls",
            "_view_module_version": "1.5.0",
            "_view_name": "HTMLView",
            "description": "",
            "description_tooltip": null,
            "layout": "IPY_MODEL_5b5a667b62c34e3580d6bb47e8b22537",
            "placeholder": "​",
            "style": "IPY_MODEL_ea9d6a5e3aa046aebcb51ce1f2a89e82",
            "value": "100%"
          }
        },
        "18613ff8e3204520b96fdd0ee4ad3ced": {
          "model_module": "@jupyter-widgets/controls",
          "model_name": "FloatProgressModel",
          "model_module_version": "1.5.0",
          "state": {
            "_dom_classes": [],
            "_model_module": "@jupyter-widgets/controls",
            "_model_module_version": "1.5.0",
            "_model_name": "FloatProgressModel",
            "_view_count": null,
            "_view_module": "@jupyter-widgets/controls",
            "_view_module_version": "1.5.0",
            "_view_name": "ProgressView",
            "bar_style": "success",
            "description": "",
            "description_tooltip": null,
            "layout": "IPY_MODEL_af9a25449fe34d6899984b743e81a4ff",
            "max": 553433881,
            "min": 0,
            "orientation": "horizontal",
            "style": "IPY_MODEL_9776dda53d224449a4a338d3c39850d8",
            "value": 553433881
          }
        },
        "b0a3de2dbbb64c9c9cb7ac3fa92868ab": {
          "model_module": "@jupyter-widgets/controls",
          "model_name": "HTMLModel",
          "model_module_version": "1.5.0",
          "state": {
            "_dom_classes": [],
            "_model_module": "@jupyter-widgets/controls",
            "_model_module_version": "1.5.0",
            "_model_name": "HTMLModel",
            "_view_count": null,
            "_view_module": "@jupyter-widgets/controls",
            "_view_module_version": "1.5.0",
            "_view_name": "HTMLView",
            "description": "",
            "description_tooltip": null,
            "layout": "IPY_MODEL_c9d757103f9541ae8498cd5819cd98d4",
            "placeholder": "​",
            "style": "IPY_MODEL_71e1ae3333bf429c8e19b4fdd02bc121",
            "value": " 528M/528M [00:02&lt;00:00, 276MB/s]"
          }
        },
        "8fdf3f8a236d4e8dad9a9d7e6be27dba": {
          "model_module": "@jupyter-widgets/base",
          "model_name": "LayoutModel",
          "model_module_version": "1.2.0",
          "state": {
            "_model_module": "@jupyter-widgets/base",
            "_model_module_version": "1.2.0",
            "_model_name": "LayoutModel",
            "_view_count": null,
            "_view_module": "@jupyter-widgets/base",
            "_view_module_version": "1.2.0",
            "_view_name": "LayoutView",
            "align_content": null,
            "align_items": null,
            "align_self": null,
            "border": null,
            "bottom": null,
            "display": null,
            "flex": null,
            "flex_flow": null,
            "grid_area": null,
            "grid_auto_columns": null,
            "grid_auto_flow": null,
            "grid_auto_rows": null,
            "grid_column": null,
            "grid_gap": null,
            "grid_row": null,
            "grid_template_areas": null,
            "grid_template_columns": null,
            "grid_template_rows": null,
            "height": null,
            "justify_content": null,
            "justify_items": null,
            "left": null,
            "margin": null,
            "max_height": null,
            "max_width": null,
            "min_height": null,
            "min_width": null,
            "object_fit": null,
            "object_position": null,
            "order": null,
            "overflow": null,
            "overflow_x": null,
            "overflow_y": null,
            "padding": null,
            "right": null,
            "top": null,
            "visibility": null,
            "width": null
          }
        },
        "5b5a667b62c34e3580d6bb47e8b22537": {
          "model_module": "@jupyter-widgets/base",
          "model_name": "LayoutModel",
          "model_module_version": "1.2.0",
          "state": {
            "_model_module": "@jupyter-widgets/base",
            "_model_module_version": "1.2.0",
            "_model_name": "LayoutModel",
            "_view_count": null,
            "_view_module": "@jupyter-widgets/base",
            "_view_module_version": "1.2.0",
            "_view_name": "LayoutView",
            "align_content": null,
            "align_items": null,
            "align_self": null,
            "border": null,
            "bottom": null,
            "display": null,
            "flex": null,
            "flex_flow": null,
            "grid_area": null,
            "grid_auto_columns": null,
            "grid_auto_flow": null,
            "grid_auto_rows": null,
            "grid_column": null,
            "grid_gap": null,
            "grid_row": null,
            "grid_template_areas": null,
            "grid_template_columns": null,
            "grid_template_rows": null,
            "height": null,
            "justify_content": null,
            "justify_items": null,
            "left": null,
            "margin": null,
            "max_height": null,
            "max_width": null,
            "min_height": null,
            "min_width": null,
            "object_fit": null,
            "object_position": null,
            "order": null,
            "overflow": null,
            "overflow_x": null,
            "overflow_y": null,
            "padding": null,
            "right": null,
            "top": null,
            "visibility": null,
            "width": null
          }
        },
        "ea9d6a5e3aa046aebcb51ce1f2a89e82": {
          "model_module": "@jupyter-widgets/controls",
          "model_name": "DescriptionStyleModel",
          "model_module_version": "1.5.0",
          "state": {
            "_model_module": "@jupyter-widgets/controls",
            "_model_module_version": "1.5.0",
            "_model_name": "DescriptionStyleModel",
            "_view_count": null,
            "_view_module": "@jupyter-widgets/base",
            "_view_module_version": "1.2.0",
            "_view_name": "StyleView",
            "description_width": ""
          }
        },
        "af9a25449fe34d6899984b743e81a4ff": {
          "model_module": "@jupyter-widgets/base",
          "model_name": "LayoutModel",
          "model_module_version": "1.2.0",
          "state": {
            "_model_module": "@jupyter-widgets/base",
            "_model_module_version": "1.2.0",
            "_model_name": "LayoutModel",
            "_view_count": null,
            "_view_module": "@jupyter-widgets/base",
            "_view_module_version": "1.2.0",
            "_view_name": "LayoutView",
            "align_content": null,
            "align_items": null,
            "align_self": null,
            "border": null,
            "bottom": null,
            "display": null,
            "flex": null,
            "flex_flow": null,
            "grid_area": null,
            "grid_auto_columns": null,
            "grid_auto_flow": null,
            "grid_auto_rows": null,
            "grid_column": null,
            "grid_gap": null,
            "grid_row": null,
            "grid_template_areas": null,
            "grid_template_columns": null,
            "grid_template_rows": null,
            "height": null,
            "justify_content": null,
            "justify_items": null,
            "left": null,
            "margin": null,
            "max_height": null,
            "max_width": null,
            "min_height": null,
            "min_width": null,
            "object_fit": null,
            "object_position": null,
            "order": null,
            "overflow": null,
            "overflow_x": null,
            "overflow_y": null,
            "padding": null,
            "right": null,
            "top": null,
            "visibility": null,
            "width": null
          }
        },
        "9776dda53d224449a4a338d3c39850d8": {
          "model_module": "@jupyter-widgets/controls",
          "model_name": "ProgressStyleModel",
          "model_module_version": "1.5.0",
          "state": {
            "_model_module": "@jupyter-widgets/controls",
            "_model_module_version": "1.5.0",
            "_model_name": "ProgressStyleModel",
            "_view_count": null,
            "_view_module": "@jupyter-widgets/base",
            "_view_module_version": "1.2.0",
            "_view_name": "StyleView",
            "bar_color": null,
            "description_width": ""
          }
        },
        "c9d757103f9541ae8498cd5819cd98d4": {
          "model_module": "@jupyter-widgets/base",
          "model_name": "LayoutModel",
          "model_module_version": "1.2.0",
          "state": {
            "_model_module": "@jupyter-widgets/base",
            "_model_module_version": "1.2.0",
            "_model_name": "LayoutModel",
            "_view_count": null,
            "_view_module": "@jupyter-widgets/base",
            "_view_module_version": "1.2.0",
            "_view_name": "LayoutView",
            "align_content": null,
            "align_items": null,
            "align_self": null,
            "border": null,
            "bottom": null,
            "display": null,
            "flex": null,
            "flex_flow": null,
            "grid_area": null,
            "grid_auto_columns": null,
            "grid_auto_flow": null,
            "grid_auto_rows": null,
            "grid_column": null,
            "grid_gap": null,
            "grid_row": null,
            "grid_template_areas": null,
            "grid_template_columns": null,
            "grid_template_rows": null,
            "height": null,
            "justify_content": null,
            "justify_items": null,
            "left": null,
            "margin": null,
            "max_height": null,
            "max_width": null,
            "min_height": null,
            "min_width": null,
            "object_fit": null,
            "object_position": null,
            "order": null,
            "overflow": null,
            "overflow_x": null,
            "overflow_y": null,
            "padding": null,
            "right": null,
            "top": null,
            "visibility": null,
            "width": null
          }
        },
        "71e1ae3333bf429c8e19b4fdd02bc121": {
          "model_module": "@jupyter-widgets/controls",
          "model_name": "DescriptionStyleModel",
          "model_module_version": "1.5.0",
          "state": {
            "_model_module": "@jupyter-widgets/controls",
            "_model_module_version": "1.5.0",
            "_model_name": "DescriptionStyleModel",
            "_view_count": null,
            "_view_module": "@jupyter-widgets/base",
            "_view_module_version": "1.2.0",
            "_view_name": "StyleView",
            "description_width": ""
          }
        }
      }
    }
  },
  "cells": [
    {
      "cell_type": "code",
      "execution_count": 2,
      "metadata": {
        "id": "T_wqPmKrj3kB"
      },
      "outputs": [],
      "source": [
        "import torch\n",
        "import torch.nn as nn\n",
        "from torchvision import transforms, datasets\n",
        "from torch.utils.data import DataLoader, TensorDataset\n",
        "import numpy as np\n",
        "import matplotlib.pyplot as plt\n",
        "\n",
        "from tqdm import tqdm\n",
        "import requests\n",
        "import os\n",
        "import tarfile\n",
        "\n",
        "from sklearn.preprocessing import StandardScaler\n",
        "from sklearn.decomposition import PCA\n",
        "from sklearn.cluster import KMeans\n",
        "from sklearn.metrics import confusion_matrix, adjusted_rand_score, adjusted_mutual_info_score\n",
        "from sklearn.pipeline import Pipeline\n",
        "from sklearn.base import TransformerMixin\n",
        "filename = './flowers_features_and_labels.npz'"
      ]
    },
    {
      "cell_type": "code",
      "source": [
        "if os.path.exists(filename):\n",
        "    file = np.load(filename)\n",
        "    f_all, y_all = file['f_all'], file['y_all']\n",
        "\n",
        "else:\n",
        "    if not os.path.exists('./flower_photos'):\n",
        "        # download the flowers dataset and extract its images\n",
        "        url = 'http://download.tensorflow.org/example_images/flower_photos.tgz'\n",
        "        with open('./flower_photos.tgz', 'wb') as file:\n",
        "            file.write(requests.get(url).content)\n",
        "        with tarfile.open('./flower_photos.tgz') as file:\n",
        "            file.extractall('./')\n",
        "        os.remove('./flower_photos.tgz')\n",
        "\n",
        "    class FeatureExtractor(nn.Module):\n",
        "        def __init__(self):\n",
        "            super().__init__()\n",
        "\n",
        "            vgg = torch.hub.load('pytorch/vision:v0.10.0', 'vgg16', pretrained=True)\n",
        "\n",
        "            # Extract VGG-16 Feature Layers\n",
        "            self.features = list(vgg.features)\n",
        "            self.features = nn.Sequential(*self.features)\n",
        "            # Extract VGG-16 Average Pooling Layer\n",
        "            self.pooling = vgg.avgpool\n",
        "            # Convert the image into one-dimensional vector\n",
        "            self.flatten = nn.Flatten()\n",
        "            # Extract the first part of fully-connected layer from VGG16\n",
        "            self.fc = vgg.classifier[0]\n",
        "\n",
        "        def forward(self, x):\n",
        "            # It will take the input 'x' until it returns the feature vector called 'out'\n",
        "            out = self.features(x)\n",
        "            print(out.shape)\n",
        "            out = self.pooling(out)\n",
        "            print(out.shape)\n",
        "            out = self.flatten(out)\n",
        "            print(out.shape)\n",
        "            out = self.fc(out)\n",
        "            print(out.shape)\n",
        "            return out\n",
        "\n",
        "    # Initialize the mode\n",
        "    #\n",
        "    assert torch.cuda.is_available()\n",
        "    feature_extractor = FeatureExtractor().cuda().eval()\n",
        "\n",
        "    dataset = datasets.ImageFolder(root='./flower_photos',\n",
        "                                   transform=transforms.Compose([transforms.Resize(224),\n",
        "                                                                 transforms.CenterCrop(224),\n",
        "                                                                 transforms.ToTensor(),\n",
        "                                                                 transforms.Normalize(mean=[0.485, 0.456, 0.406], std=[0.229, 0.224, 0.225])]))\n",
        "    dataloader = DataLoader(dataset, batch_size=64, shuffle=True)\n",
        "\n",
        "    # Extract features and store them on disk\n",
        "    f_all, y_all = np.zeros((0, 4096)), np.zeros((0,))\n",
        "    for x, y in tqdm(dataloader):\n",
        "        with torch.no_grad():\n",
        "            f_all = np.vstack([f_all, feature_extractor(x.cuda()).cpu()])\n",
        "            y_all = np.concatenate([y_all, y])\n",
        "    np.savez(filename, f_all=f_all, y_all=y_all)"
      ],
      "metadata": {
        "colab": {
          "base_uri": "https://localhost:8080/",
          "height": 1000,
          "referenced_widgets": [
            "8edda1650ec04213afd2a6c691aaa87e",
            "29ccfcf01ba249bbb3f13c1f853be28b",
            "18613ff8e3204520b96fdd0ee4ad3ced",
            "b0a3de2dbbb64c9c9cb7ac3fa92868ab",
            "8fdf3f8a236d4e8dad9a9d7e6be27dba",
            "5b5a667b62c34e3580d6bb47e8b22537",
            "ea9d6a5e3aa046aebcb51ce1f2a89e82",
            "af9a25449fe34d6899984b743e81a4ff",
            "9776dda53d224449a4a338d3c39850d8",
            "c9d757103f9541ae8498cd5819cd98d4",
            "71e1ae3333bf429c8e19b4fdd02bc121"
          ]
        },
        "id": "RvQCMU0cRGMr",
        "outputId": "8e3de209-0e53-4206-99da-a56deb08bfcf"
      },
      "execution_count": 4,
      "outputs": [
        {
          "output_type": "stream",
          "name": "stderr",
          "text": [
            "Downloading: \"https://github.com/pytorch/vision/zipball/v0.10.0\" to /root/.cache/torch/hub/v0.10.0.zip\n",
            "/usr/local/lib/python3.8/dist-packages/torchvision/models/_utils.py:208: UserWarning: The parameter 'pretrained' is deprecated since 0.13 and may be removed in the future, please use 'weights' instead.\n",
            "  warnings.warn(\n",
            "/usr/local/lib/python3.8/dist-packages/torchvision/models/_utils.py:223: UserWarning: Arguments other than a weight enum or `None` for 'weights' are deprecated since 0.13 and may be removed in the future. The current behavior is equivalent to passing `weights=VGG16_Weights.IMAGENET1K_V1`. You can also use `weights=VGG16_Weights.DEFAULT` to get the most up-to-date weights.\n",
            "  warnings.warn(msg)\n",
            "Downloading: \"https://download.pytorch.org/models/vgg16-397923af.pth\" to /root/.cache/torch/hub/checkpoints/vgg16-397923af.pth\n"
          ]
        },
        {
          "output_type": "display_data",
          "data": {
            "text/plain": [
              "  0%|          | 0.00/528M [00:00<?, ?B/s]"
            ],
            "application/vnd.jupyter.widget-view+json": {
              "version_major": 2,
              "version_minor": 0,
              "model_id": "8edda1650ec04213afd2a6c691aaa87e"
            }
          },
          "metadata": {}
        },
        {
          "output_type": "stream",
          "name": "stderr",
          "text": [
            "\r  0%|          | 0/58 [00:00<?, ?it/s]"
          ]
        },
        {
          "output_type": "stream",
          "name": "stdout",
          "text": [
            "torch.Size([64, 512, 7, 7])\n",
            "torch.Size([64, 512, 7, 7])\n",
            "torch.Size([64, 25088])\n",
            "torch.Size([64, 4096])\n"
          ]
        },
        {
          "output_type": "stream",
          "name": "stderr",
          "text": [
            "\r  2%|▏         | 1/58 [00:08<08:12,  8.64s/it]"
          ]
        },
        {
          "output_type": "stream",
          "name": "stdout",
          "text": [
            "torch.Size([64, 512, 7, 7])\n",
            "torch.Size([64, 512, 7, 7])\n",
            "torch.Size([64, 25088])\n",
            "torch.Size([64, 4096])\n"
          ]
        },
        {
          "output_type": "stream",
          "name": "stderr",
          "text": [
            "\r  3%|▎         | 2/58 [00:09<03:39,  3.92s/it]"
          ]
        },
        {
          "output_type": "stream",
          "name": "stdout",
          "text": [
            "torch.Size([64, 512, 7, 7])\n",
            "torch.Size([64, 512, 7, 7])\n",
            "torch.Size([64, 25088])\n",
            "torch.Size([64, 4096])\n"
          ]
        },
        {
          "output_type": "stream",
          "name": "stderr",
          "text": [
            "\r  5%|▌         | 3/58 [00:09<02:12,  2.40s/it]"
          ]
        },
        {
          "output_type": "stream",
          "name": "stdout",
          "text": [
            "torch.Size([64, 512, 7, 7])\n",
            "torch.Size([64, 512, 7, 7])\n",
            "torch.Size([64, 25088])\n",
            "torch.Size([64, 4096])\n"
          ]
        },
        {
          "output_type": "stream",
          "name": "stderr",
          "text": [
            "\r  7%|▋         | 4/58 [00:10<01:31,  1.69s/it]"
          ]
        },
        {
          "output_type": "stream",
          "name": "stdout",
          "text": [
            "torch.Size([64, 512, 7, 7])\n",
            "torch.Size([64, 512, 7, 7])\n",
            "torch.Size([64, 25088])\n",
            "torch.Size([64, 4096])\n"
          ]
        },
        {
          "output_type": "stream",
          "name": "stderr",
          "text": [
            "\r  9%|▊         | 5/58 [00:11<01:08,  1.30s/it]"
          ]
        },
        {
          "output_type": "stream",
          "name": "stdout",
          "text": [
            "torch.Size([64, 512, 7, 7])\n",
            "torch.Size([64, 512, 7, 7])\n",
            "torch.Size([64, 25088])\n",
            "torch.Size([64, 4096])\n"
          ]
        },
        {
          "output_type": "stream",
          "name": "stderr",
          "text": [
            "\r 10%|█         | 6/58 [00:11<00:55,  1.06s/it]"
          ]
        },
        {
          "output_type": "stream",
          "name": "stdout",
          "text": [
            "torch.Size([64, 512, 7, 7])\n",
            "torch.Size([64, 512, 7, 7])\n",
            "torch.Size([64, 25088])\n",
            "torch.Size([64, 4096])\n"
          ]
        },
        {
          "output_type": "stream",
          "name": "stderr",
          "text": [
            "\r 12%|█▏        | 7/58 [00:12<00:49,  1.04it/s]"
          ]
        },
        {
          "output_type": "stream",
          "name": "stdout",
          "text": [
            "torch.Size([64, 512, 7, 7])\n",
            "torch.Size([64, 512, 7, 7])\n",
            "torch.Size([64, 25088])\n",
            "torch.Size([64, 4096])\n"
          ]
        },
        {
          "output_type": "stream",
          "name": "stderr",
          "text": [
            "\r 14%|█▍        | 8/58 [00:13<00:44,  1.12it/s]"
          ]
        },
        {
          "output_type": "stream",
          "name": "stdout",
          "text": [
            "torch.Size([64, 512, 7, 7])\n",
            "torch.Size([64, 512, 7, 7])\n",
            "torch.Size([64, 25088])\n",
            "torch.Size([64, 4096])\n"
          ]
        },
        {
          "output_type": "stream",
          "name": "stderr",
          "text": [
            "\r 16%|█▌        | 9/58 [00:13<00:42,  1.17it/s]"
          ]
        },
        {
          "output_type": "stream",
          "name": "stdout",
          "text": [
            "torch.Size([64, 512, 7, 7])\n",
            "torch.Size([64, 512, 7, 7])\n",
            "torch.Size([64, 25088])\n",
            "torch.Size([64, 4096])\n"
          ]
        },
        {
          "output_type": "stream",
          "name": "stderr",
          "text": [
            "\r 17%|█▋        | 10/58 [00:14<00:37,  1.27it/s]"
          ]
        },
        {
          "output_type": "stream",
          "name": "stdout",
          "text": [
            "torch.Size([64, 512, 7, 7])\n",
            "torch.Size([64, 512, 7, 7])\n",
            "torch.Size([64, 25088])\n",
            "torch.Size([64, 4096])\n"
          ]
        },
        {
          "output_type": "stream",
          "name": "stderr",
          "text": [
            "\r 19%|█▉        | 11/58 [00:15<00:34,  1.37it/s]"
          ]
        },
        {
          "output_type": "stream",
          "name": "stdout",
          "text": [
            "torch.Size([64, 512, 7, 7])\n",
            "torch.Size([64, 512, 7, 7])\n",
            "torch.Size([64, 25088])\n",
            "torch.Size([64, 4096])\n"
          ]
        },
        {
          "output_type": "stream",
          "name": "stderr",
          "text": [
            "\r 21%|██        | 12/58 [00:15<00:31,  1.44it/s]"
          ]
        },
        {
          "output_type": "stream",
          "name": "stdout",
          "text": [
            "torch.Size([64, 512, 7, 7])\n",
            "torch.Size([64, 512, 7, 7])\n",
            "torch.Size([64, 25088])\n",
            "torch.Size([64, 4096])\n"
          ]
        },
        {
          "output_type": "stream",
          "name": "stderr",
          "text": [
            "\r 22%|██▏       | 13/58 [00:16<00:29,  1.50it/s]"
          ]
        },
        {
          "output_type": "stream",
          "name": "stdout",
          "text": [
            "torch.Size([64, 512, 7, 7])\n",
            "torch.Size([64, 512, 7, 7])\n",
            "torch.Size([64, 25088])\n",
            "torch.Size([64, 4096])\n"
          ]
        },
        {
          "output_type": "stream",
          "name": "stderr",
          "text": [
            "\r 24%|██▍       | 14/58 [00:16<00:28,  1.55it/s]"
          ]
        },
        {
          "output_type": "stream",
          "name": "stdout",
          "text": [
            "torch.Size([64, 512, 7, 7])\n",
            "torch.Size([64, 512, 7, 7])\n",
            "torch.Size([64, 25088])\n",
            "torch.Size([64, 4096])\n"
          ]
        },
        {
          "output_type": "stream",
          "name": "stderr",
          "text": [
            "\r 26%|██▌       | 15/58 [00:17<00:27,  1.58it/s]"
          ]
        },
        {
          "output_type": "stream",
          "name": "stdout",
          "text": [
            "torch.Size([64, 512, 7, 7])\n",
            "torch.Size([64, 512, 7, 7])\n",
            "torch.Size([64, 25088])\n",
            "torch.Size([64, 4096])\n"
          ]
        },
        {
          "output_type": "stream",
          "name": "stderr",
          "text": [
            "\r 28%|██▊       | 16/58 [00:18<00:26,  1.60it/s]"
          ]
        },
        {
          "output_type": "stream",
          "name": "stdout",
          "text": [
            "torch.Size([64, 512, 7, 7])\n",
            "torch.Size([64, 512, 7, 7])\n",
            "torch.Size([64, 25088])\n",
            "torch.Size([64, 4096])\n"
          ]
        },
        {
          "output_type": "stream",
          "name": "stderr",
          "text": [
            "\r 29%|██▉       | 17/58 [00:18<00:25,  1.62it/s]"
          ]
        },
        {
          "output_type": "stream",
          "name": "stdout",
          "text": [
            "torch.Size([64, 512, 7, 7])\n",
            "torch.Size([64, 512, 7, 7])\n",
            "torch.Size([64, 25088])\n",
            "torch.Size([64, 4096])\n"
          ]
        },
        {
          "output_type": "stream",
          "name": "stderr",
          "text": [
            "\r 31%|███       | 18/58 [00:19<00:24,  1.62it/s]"
          ]
        },
        {
          "output_type": "stream",
          "name": "stdout",
          "text": [
            "torch.Size([64, 512, 7, 7])\n",
            "torch.Size([64, 512, 7, 7])\n",
            "torch.Size([64, 25088])\n",
            "torch.Size([64, 4096])\n"
          ]
        },
        {
          "output_type": "stream",
          "name": "stderr",
          "text": [
            "\r 33%|███▎      | 19/58 [00:19<00:23,  1.65it/s]"
          ]
        },
        {
          "output_type": "stream",
          "name": "stdout",
          "text": [
            "torch.Size([64, 512, 7, 7])\n",
            "torch.Size([64, 512, 7, 7])\n",
            "torch.Size([64, 25088])\n",
            "torch.Size([64, 4096])\n"
          ]
        },
        {
          "output_type": "stream",
          "name": "stderr",
          "text": [
            "\r 34%|███▍      | 20/58 [00:20<00:23,  1.64it/s]"
          ]
        },
        {
          "output_type": "stream",
          "name": "stdout",
          "text": [
            "torch.Size([64, 512, 7, 7])\n",
            "torch.Size([64, 512, 7, 7])\n",
            "torch.Size([64, 25088])\n",
            "torch.Size([64, 4096])\n"
          ]
        },
        {
          "output_type": "stream",
          "name": "stderr",
          "text": [
            "\r 36%|███▌      | 21/58 [00:21<00:22,  1.66it/s]"
          ]
        },
        {
          "output_type": "stream",
          "name": "stdout",
          "text": [
            "torch.Size([64, 512, 7, 7])\n",
            "torch.Size([64, 512, 7, 7])\n",
            "torch.Size([64, 25088])\n",
            "torch.Size([64, 4096])\n"
          ]
        },
        {
          "output_type": "stream",
          "name": "stderr",
          "text": [
            "\r 38%|███▊      | 22/58 [00:21<00:22,  1.62it/s]"
          ]
        },
        {
          "output_type": "stream",
          "name": "stdout",
          "text": [
            "torch.Size([64, 512, 7, 7])\n",
            "torch.Size([64, 512, 7, 7])\n",
            "torch.Size([64, 25088])\n",
            "torch.Size([64, 4096])\n"
          ]
        },
        {
          "output_type": "stream",
          "name": "stderr",
          "text": [
            "\r 40%|███▉      | 23/58 [00:22<00:23,  1.48it/s]"
          ]
        },
        {
          "output_type": "stream",
          "name": "stdout",
          "text": [
            "torch.Size([64, 512, 7, 7])\n",
            "torch.Size([64, 512, 7, 7])\n",
            "torch.Size([64, 25088])\n",
            "torch.Size([64, 4096])\n"
          ]
        },
        {
          "output_type": "stream",
          "name": "stderr",
          "text": [
            "\r 41%|████▏     | 24/58 [00:23<00:25,  1.33it/s]"
          ]
        },
        {
          "output_type": "stream",
          "name": "stdout",
          "text": [
            "torch.Size([64, 512, 7, 7])\n",
            "torch.Size([64, 512, 7, 7])\n",
            "torch.Size([64, 25088])\n",
            "torch.Size([64, 4096])\n"
          ]
        },
        {
          "output_type": "stream",
          "name": "stderr",
          "text": [
            "\r 43%|████▎     | 25/58 [00:24<00:28,  1.18it/s]"
          ]
        },
        {
          "output_type": "stream",
          "name": "stdout",
          "text": [
            "torch.Size([64, 512, 7, 7])\n",
            "torch.Size([64, 512, 7, 7])\n",
            "torch.Size([64, 25088])\n",
            "torch.Size([64, 4096])\n"
          ]
        },
        {
          "output_type": "stream",
          "name": "stderr",
          "text": [
            "\r 45%|████▍     | 26/58 [00:25<00:26,  1.22it/s]"
          ]
        },
        {
          "output_type": "stream",
          "name": "stdout",
          "text": [
            "torch.Size([64, 512, 7, 7])\n",
            "torch.Size([64, 512, 7, 7])\n",
            "torch.Size([64, 25088])\n",
            "torch.Size([64, 4096])\n"
          ]
        },
        {
          "output_type": "stream",
          "name": "stderr",
          "text": [
            "\r 47%|████▋     | 27/58 [00:26<00:24,  1.25it/s]"
          ]
        },
        {
          "output_type": "stream",
          "name": "stdout",
          "text": [
            "torch.Size([64, 512, 7, 7])\n",
            "torch.Size([64, 512, 7, 7])\n",
            "torch.Size([64, 25088])\n",
            "torch.Size([64, 4096])\n"
          ]
        },
        {
          "output_type": "stream",
          "name": "stderr",
          "text": [
            "\r 48%|████▊     | 28/58 [00:26<00:22,  1.32it/s]"
          ]
        },
        {
          "output_type": "stream",
          "name": "stdout",
          "text": [
            "torch.Size([64, 512, 7, 7])\n",
            "torch.Size([64, 512, 7, 7])\n",
            "torch.Size([64, 25088])\n",
            "torch.Size([64, 4096])\n"
          ]
        },
        {
          "output_type": "stream",
          "name": "stderr",
          "text": [
            "\r 50%|█████     | 29/58 [00:27<00:20,  1.40it/s]"
          ]
        },
        {
          "output_type": "stream",
          "name": "stdout",
          "text": [
            "torch.Size([64, 512, 7, 7])\n",
            "torch.Size([64, 512, 7, 7])\n",
            "torch.Size([64, 25088])\n",
            "torch.Size([64, 4096])\n"
          ]
        },
        {
          "output_type": "stream",
          "name": "stderr",
          "text": [
            "\r 52%|█████▏    | 30/58 [00:28<00:19,  1.45it/s]"
          ]
        },
        {
          "output_type": "stream",
          "name": "stdout",
          "text": [
            "torch.Size([64, 512, 7, 7])\n",
            "torch.Size([64, 512, 7, 7])\n",
            "torch.Size([64, 25088])\n",
            "torch.Size([64, 4096])\n"
          ]
        },
        {
          "output_type": "stream",
          "name": "stderr",
          "text": [
            "\r 53%|█████▎    | 31/58 [00:28<00:18,  1.49it/s]"
          ]
        },
        {
          "output_type": "stream",
          "name": "stdout",
          "text": [
            "torch.Size([64, 512, 7, 7])\n",
            "torch.Size([64, 512, 7, 7])\n",
            "torch.Size([64, 25088])\n",
            "torch.Size([64, 4096])\n"
          ]
        },
        {
          "output_type": "stream",
          "name": "stderr",
          "text": [
            "\r 55%|█████▌    | 32/58 [00:29<00:16,  1.54it/s]"
          ]
        },
        {
          "output_type": "stream",
          "name": "stdout",
          "text": [
            "torch.Size([64, 512, 7, 7])\n",
            "torch.Size([64, 512, 7, 7])\n",
            "torch.Size([64, 25088])\n",
            "torch.Size([64, 4096])\n"
          ]
        },
        {
          "output_type": "stream",
          "name": "stderr",
          "text": [
            "\r 57%|█████▋    | 33/58 [00:29<00:16,  1.56it/s]"
          ]
        },
        {
          "output_type": "stream",
          "name": "stdout",
          "text": [
            "torch.Size([64, 512, 7, 7])\n",
            "torch.Size([64, 512, 7, 7])\n",
            "torch.Size([64, 25088])\n",
            "torch.Size([64, 4096])\n"
          ]
        },
        {
          "output_type": "stream",
          "name": "stderr",
          "text": [
            "\r 59%|█████▊    | 34/58 [00:30<00:15,  1.58it/s]"
          ]
        },
        {
          "output_type": "stream",
          "name": "stdout",
          "text": [
            "torch.Size([64, 512, 7, 7])\n",
            "torch.Size([64, 512, 7, 7])\n",
            "torch.Size([64, 25088])\n",
            "torch.Size([64, 4096])\n"
          ]
        },
        {
          "output_type": "stream",
          "name": "stderr",
          "text": [
            "\r 60%|██████    | 35/58 [00:31<00:14,  1.57it/s]"
          ]
        },
        {
          "output_type": "stream",
          "name": "stdout",
          "text": [
            "torch.Size([64, 512, 7, 7])\n",
            "torch.Size([64, 512, 7, 7])\n",
            "torch.Size([64, 25088])\n",
            "torch.Size([64, 4096])\n"
          ]
        },
        {
          "output_type": "stream",
          "name": "stderr",
          "text": [
            "\r 62%|██████▏   | 36/58 [00:31<00:14,  1.57it/s]"
          ]
        },
        {
          "output_type": "stream",
          "name": "stdout",
          "text": [
            "torch.Size([64, 512, 7, 7])\n",
            "torch.Size([64, 512, 7, 7])\n",
            "torch.Size([64, 25088])\n",
            "torch.Size([64, 4096])\n"
          ]
        },
        {
          "output_type": "stream",
          "name": "stderr",
          "text": [
            "\r 64%|██████▍   | 37/58 [00:32<00:13,  1.59it/s]"
          ]
        },
        {
          "output_type": "stream",
          "name": "stdout",
          "text": [
            "torch.Size([64, 512, 7, 7])\n",
            "torch.Size([64, 512, 7, 7])\n",
            "torch.Size([64, 25088])\n",
            "torch.Size([64, 4096])\n"
          ]
        },
        {
          "output_type": "stream",
          "name": "stderr",
          "text": [
            "\r 66%|██████▌   | 38/58 [00:33<00:12,  1.59it/s]"
          ]
        },
        {
          "output_type": "stream",
          "name": "stdout",
          "text": [
            "torch.Size([64, 512, 7, 7])\n",
            "torch.Size([64, 512, 7, 7])\n",
            "torch.Size([64, 25088])\n",
            "torch.Size([64, 4096])\n"
          ]
        },
        {
          "output_type": "stream",
          "name": "stderr",
          "text": [
            "\r 67%|██████▋   | 39/58 [00:33<00:11,  1.60it/s]"
          ]
        },
        {
          "output_type": "stream",
          "name": "stdout",
          "text": [
            "torch.Size([64, 512, 7, 7])\n",
            "torch.Size([64, 512, 7, 7])\n",
            "torch.Size([64, 25088])\n",
            "torch.Size([64, 4096])\n"
          ]
        },
        {
          "output_type": "stream",
          "name": "stderr",
          "text": [
            "\r 69%|██████▉   | 40/58 [00:34<00:11,  1.60it/s]"
          ]
        },
        {
          "output_type": "stream",
          "name": "stdout",
          "text": [
            "torch.Size([64, 512, 7, 7])\n",
            "torch.Size([64, 512, 7, 7])\n",
            "torch.Size([64, 25088])\n",
            "torch.Size([64, 4096])\n"
          ]
        },
        {
          "output_type": "stream",
          "name": "stderr",
          "text": [
            "\r 71%|███████   | 41/58 [00:34<00:10,  1.62it/s]"
          ]
        },
        {
          "output_type": "stream",
          "name": "stdout",
          "text": [
            "torch.Size([64, 512, 7, 7])\n",
            "torch.Size([64, 512, 7, 7])\n",
            "torch.Size([64, 25088])\n",
            "torch.Size([64, 4096])\n"
          ]
        },
        {
          "output_type": "stream",
          "name": "stderr",
          "text": [
            "\r 72%|███████▏  | 42/58 [00:35<00:09,  1.61it/s]"
          ]
        },
        {
          "output_type": "stream",
          "name": "stdout",
          "text": [
            "torch.Size([64, 512, 7, 7])\n",
            "torch.Size([64, 512, 7, 7])\n",
            "torch.Size([64, 25088])\n",
            "torch.Size([64, 4096])\n"
          ]
        },
        {
          "output_type": "stream",
          "name": "stderr",
          "text": [
            "\r 74%|███████▍  | 43/58 [00:36<00:09,  1.61it/s]"
          ]
        },
        {
          "output_type": "stream",
          "name": "stdout",
          "text": [
            "torch.Size([64, 512, 7, 7])\n",
            "torch.Size([64, 512, 7, 7])\n",
            "torch.Size([64, 25088])\n",
            "torch.Size([64, 4096])\n"
          ]
        },
        {
          "output_type": "stream",
          "name": "stderr",
          "text": [
            "\r 76%|███████▌  | 44/58 [00:36<00:09,  1.54it/s]"
          ]
        },
        {
          "output_type": "stream",
          "name": "stdout",
          "text": [
            "torch.Size([64, 512, 7, 7])\n",
            "torch.Size([64, 512, 7, 7])\n",
            "torch.Size([64, 25088])\n",
            "torch.Size([64, 4096])\n"
          ]
        },
        {
          "output_type": "stream",
          "name": "stderr",
          "text": [
            "\r 78%|███████▊  | 45/58 [00:37<00:08,  1.47it/s]"
          ]
        },
        {
          "output_type": "stream",
          "name": "stdout",
          "text": [
            "torch.Size([64, 512, 7, 7])\n",
            "torch.Size([64, 512, 7, 7])\n",
            "torch.Size([64, 25088])\n",
            "torch.Size([64, 4096])\n"
          ]
        },
        {
          "output_type": "stream",
          "name": "stderr",
          "text": [
            "\r 79%|███████▉  | 46/58 [00:38<00:08,  1.38it/s]"
          ]
        },
        {
          "output_type": "stream",
          "name": "stdout",
          "text": [
            "torch.Size([64, 512, 7, 7])\n",
            "torch.Size([64, 512, 7, 7])\n",
            "torch.Size([64, 25088])\n",
            "torch.Size([64, 4096])\n"
          ]
        },
        {
          "output_type": "stream",
          "name": "stderr",
          "text": [
            "\r 81%|████████  | 47/58 [00:39<00:07,  1.39it/s]"
          ]
        },
        {
          "output_type": "stream",
          "name": "stdout",
          "text": [
            "torch.Size([64, 512, 7, 7])\n",
            "torch.Size([64, 512, 7, 7])\n",
            "torch.Size([64, 25088])\n",
            "torch.Size([64, 4096])\n"
          ]
        },
        {
          "output_type": "stream",
          "name": "stderr",
          "text": [
            "\r 83%|████████▎ | 48/58 [00:39<00:06,  1.44it/s]"
          ]
        },
        {
          "output_type": "stream",
          "name": "stdout",
          "text": [
            "torch.Size([64, 512, 7, 7])\n",
            "torch.Size([64, 512, 7, 7])\n",
            "torch.Size([64, 25088])\n",
            "torch.Size([64, 4096])\n"
          ]
        },
        {
          "output_type": "stream",
          "name": "stderr",
          "text": [
            "\r 84%|████████▍ | 49/58 [00:40<00:06,  1.47it/s]"
          ]
        },
        {
          "output_type": "stream",
          "name": "stdout",
          "text": [
            "torch.Size([64, 512, 7, 7])\n",
            "torch.Size([64, 512, 7, 7])\n",
            "torch.Size([64, 25088])\n",
            "torch.Size([64, 4096])\n"
          ]
        },
        {
          "output_type": "stream",
          "name": "stderr",
          "text": [
            "\r 86%|████████▌ | 50/58 [00:41<00:05,  1.50it/s]"
          ]
        },
        {
          "output_type": "stream",
          "name": "stdout",
          "text": [
            "torch.Size([64, 512, 7, 7])\n",
            "torch.Size([64, 512, 7, 7])\n",
            "torch.Size([64, 25088])\n",
            "torch.Size([64, 4096])\n"
          ]
        },
        {
          "output_type": "stream",
          "name": "stderr",
          "text": [
            "\r 88%|████████▊ | 51/58 [00:41<00:04,  1.53it/s]"
          ]
        },
        {
          "output_type": "stream",
          "name": "stdout",
          "text": [
            "torch.Size([64, 512, 7, 7])\n",
            "torch.Size([64, 512, 7, 7])\n",
            "torch.Size([64, 25088])\n",
            "torch.Size([64, 4096])\n"
          ]
        },
        {
          "output_type": "stream",
          "name": "stderr",
          "text": [
            "\r 90%|████████▉ | 52/58 [00:42<00:03,  1.53it/s]"
          ]
        },
        {
          "output_type": "stream",
          "name": "stdout",
          "text": [
            "torch.Size([64, 512, 7, 7])\n",
            "torch.Size([64, 512, 7, 7])\n",
            "torch.Size([64, 25088])\n",
            "torch.Size([64, 4096])\n"
          ]
        },
        {
          "output_type": "stream",
          "name": "stderr",
          "text": [
            "\r 91%|█████████▏| 53/58 [00:43<00:03,  1.53it/s]"
          ]
        },
        {
          "output_type": "stream",
          "name": "stdout",
          "text": [
            "torch.Size([64, 512, 7, 7])\n",
            "torch.Size([64, 512, 7, 7])\n",
            "torch.Size([64, 25088])\n",
            "torch.Size([64, 4096])\n"
          ]
        },
        {
          "output_type": "stream",
          "name": "stderr",
          "text": [
            "\r 93%|█████████▎| 54/58 [00:43<00:02,  1.55it/s]"
          ]
        },
        {
          "output_type": "stream",
          "name": "stdout",
          "text": [
            "torch.Size([64, 512, 7, 7])\n",
            "torch.Size([64, 512, 7, 7])\n",
            "torch.Size([64, 25088])\n",
            "torch.Size([64, 4096])\n"
          ]
        },
        {
          "output_type": "stream",
          "name": "stderr",
          "text": [
            "\r 95%|█████████▍| 55/58 [00:44<00:01,  1.55it/s]"
          ]
        },
        {
          "output_type": "stream",
          "name": "stdout",
          "text": [
            "torch.Size([64, 512, 7, 7])\n",
            "torch.Size([64, 512, 7, 7])\n",
            "torch.Size([64, 25088])\n",
            "torch.Size([64, 4096])\n"
          ]
        },
        {
          "output_type": "stream",
          "name": "stderr",
          "text": [
            "\r 97%|█████████▋| 56/58 [00:44<00:01,  1.56it/s]"
          ]
        },
        {
          "output_type": "stream",
          "name": "stdout",
          "text": [
            "torch.Size([64, 512, 7, 7])\n",
            "torch.Size([64, 512, 7, 7])\n",
            "torch.Size([64, 25088])\n",
            "torch.Size([64, 4096])\n"
          ]
        },
        {
          "output_type": "stream",
          "name": "stderr",
          "text": [
            "100%|██████████| 58/58 [00:45<00:00,  1.27it/s]"
          ]
        },
        {
          "output_type": "stream",
          "name": "stdout",
          "text": [
            "torch.Size([22, 512, 7, 7])\n",
            "torch.Size([22, 512, 7, 7])\n",
            "torch.Size([22, 25088])\n",
            "torch.Size([22, 4096])\n"
          ]
        },
        {
          "output_type": "stream",
          "name": "stderr",
          "text": [
            "\n"
          ]
        }
      ]
    },
    {
      "cell_type": "code",
      "source": [
        "from sklearn.manifold import TSNE\n",
        "f_tsne = TSNE(n_components=2, learning_rate='auto',  init='random').fit_transform(f_all)\n",
        "plt.scatter(*f_tsne.T, c=y_all)"
      ],
      "metadata": {
        "colab": {
          "base_uri": "https://localhost:8080/",
          "height": 284
        },
        "id": "Z0SJPZRiUsVc",
        "outputId": "d039b60b-7ce8-4669-b53d-b95bdd6d4fd5"
      },
      "execution_count": 5,
      "outputs": [
        {
          "output_type": "execute_result",
          "data": {
            "text/plain": [
              "<matplotlib.collections.PathCollection at 0x7fa4d1244a00>"
            ]
          },
          "metadata": {},
          "execution_count": 5
        },
        {
          "output_type": "display_data",
          "data": {
            "text/plain": [
              "<Figure size 432x288 with 1 Axes>"
            ],
            "image/png": "[encoded data removed]"
          },
          "metadata": {
            "needs_background": "light"
          }
        }
      ]
    },
    {
      "cell_type": "code",
      "source": [
        "class Autoencoder(torch.nn.Module, TransformerMixin):\n",
        "    def __init__(self, n_components):\n",
        "        super().__init__()\n",
        "        self.n_components = n_components\n",
        "        self.n_features = None  # to be determined with data\n",
        "        self.encoder = None\n",
        "        self.decoder = None\n",
        "        \n",
        "    def _create_encoder(self):\n",
        "        return nn.Sequential(\n",
        "            nn.Linear(4096, 1280),\n",
        "            nn.ReLU(True),\n",
        "            nn.Linear(1280, 640),\n",
        "            nn.ReLU(True), nn.Linear(640, 120), nn.ReLU(True), nn.Linear(120, self.n_components))\n",
        "    \n",
        "    def _create_decoder(self):\n",
        "        return nn.Sequential(\n",
        "            nn.Linear(self.n_components, 120),\n",
        "            nn.ReLU(True),\n",
        "            nn.Linear(120, 640),\n",
        "            nn.ReLU(True),\n",
        "            nn.Linear(640, 1280),\n",
        "            nn.ReLU(True), nn.Linear(1280, 4096))\n",
        "    \n",
        "    def forward(self, X):\n",
        "        encoded = self.encoder(X)\n",
        "        decoded = self.decoder(encoded)\n",
        "        return decoded\n",
        "    \n",
        "    def fit(self, X):\n",
        "        X = torch.tensor(X, dtype=torch.float32, device='cuda')\n",
        "        self.n_features = X.shape[1]\n",
        "        self.encoder = self._create_encoder()\n",
        "        self.decoder = self._create_decoder()\n",
        "        self.cuda()\n",
        "        self.train()\n",
        "        \n",
        "        criterion = nn.MSELoss()\n",
        "        optimizer = torch.optim.Adam(self.parameters(), lr=1e-3, weight_decay=1e-5)\n",
        "\n",
        "        dataset = TensorDataset(X)\n",
        "        dataloader = DataLoader(dataset, batch_size=128, shuffle=True)\n",
        "\n",
        "        for epoch in tqdm(range(100)):\n",
        "            for (X_,) in dataloader:\n",
        "                X_ = X_.cuda()\n",
        "                # ===================forward=====================\n",
        "                output = self(X_)\n",
        "                loss = criterion(output, X_)\n",
        "                # ===================backward====================\n",
        "                optimizer.zero_grad()\n",
        "                loss.backward()\n",
        "                optimizer.step()\n",
        "\n",
        "        return self     \n",
        "        \n",
        "    def transform(self, X):\n",
        "        X = torch.tensor(X, dtype=torch.float32, device='cuda')\n",
        "        self.eval()\n",
        "        with torch.no_grad():\n",
        "            return self.encoder(X).cpu().numpy()"
      ],
      "metadata": {
        "id": "eJfjG_w86_be"
      },
      "execution_count": 5,
      "outputs": []
    },
    {
      "cell_type": "code",
      "source": [
        "autoencoder = Autoencoder(50)\n",
        "autoencoder.fit(f_all)\n"
      ],
      "metadata": {
        "colab": {
          "base_uri": "https://localhost:8080/"
        },
        "id": "Mbxpk1qE7rnC",
        "outputId": "7a48a9cb-ba0a-42d8-9c1e-85fa3bec9a15"
      },
      "execution_count": 6,
      "outputs": [
        {
          "output_type": "stream",
          "name": "stderr",
          "text": [
            "100%|██████████| 100/100 [00:23<00:00,  4.31it/s]\n"
          ]
        },
        {
          "output_type": "execute_result",
          "data": {
            "text/plain": [
              "Autoencoder(\n",
              "  (encoder): Sequential(\n",
              "    (0): Linear(in_features=4096, out_features=1280, bias=True)\n",
              "    (1): ReLU(inplace=True)\n",
              "    (2): Linear(in_features=1280, out_features=640, bias=True)\n",
              "    (3): ReLU(inplace=True)\n",
              "    (4): Linear(in_features=640, out_features=120, bias=True)\n",
              "    (5): ReLU(inplace=True)\n",
              "    (6): Linear(in_features=120, out_features=50, bias=True)\n",
              "  )\n",
              "  (decoder): Sequential(\n",
              "    (0): Linear(in_features=50, out_features=120, bias=True)\n",
              "    (1): ReLU(inplace=True)\n",
              "    (2): Linear(in_features=120, out_features=640, bias=True)\n",
              "    (3): ReLU(inplace=True)\n",
              "    (4): Linear(in_features=640, out_features=1280, bias=True)\n",
              "    (5): ReLU(inplace=True)\n",
              "    (6): Linear(in_features=1280, out_features=4096, bias=True)\n",
              "  )\n",
              ")"
            ]
          },
          "metadata": {},
          "execution_count": 6
        }
      ]
    },
    {
      "cell_type": "code",
      "source": [
        "auto_features = autoencoder.transform(f_all)"
      ],
      "metadata": {
        "id": "N40oAbXz7htB"
      },
      "execution_count": 7,
      "outputs": []
    },
    {
      "cell_type": "code",
      "source": [
        "import pandas as pd\n",
        "from sklearn.metrics.cluster import rand_score\n",
        "\n",
        "\n",
        "# SVD\n",
        "from sklearn.decomposition import TruncatedSVD\n",
        "svd = TruncatedSVD(n_components=50,random_state = 42)\n",
        "svd_features = svd.fit_transform(f_all)"
      ],
      "metadata": {
        "id": "3bdfZ5To8JFE"
      },
      "execution_count": 8,
      "outputs": []
    },
    {
      "cell_type": "code",
      "source": [
        "!pip install umap-learn"
      ],
      "metadata": {
        "colab": {
          "base_uri": "https://localhost:8080/"
        },
        "id": "hK1Qi5Lo8nS8",
        "outputId": "5b4381c9-39a6-4e47-a855-70da83af82fc"
      },
      "execution_count": 10,
      "outputs": [
        {
          "output_type": "stream",
          "name": "stdout",
          "text": [
            "Looking in indexes: https://pypi.org/simple, https://us-python.pkg.dev/colab-wheels/public/simple/\n",
            "Collecting umap-learn\n",
            "  Downloading umap-learn-0.5.3.tar.gz (88 kB)\n",
            "\u001b[2K     \u001b[90m━━━━━━━━━━━━━━━━━━━━━━━━━━━━━━━━━━━━━━━━\u001b[0m \u001b[32m88.2/88.2 KB\u001b[0m \u001b[31m8.9 MB/s\u001b[0m eta \u001b[36m0:00:00\u001b[0m\n",
            "\u001b[?25h  Preparing metadata (setup.py) ... \u001b[?25l\u001b[?25hdone\n",
            "Requirement already satisfied: numpy>=1.17 in /usr/local/lib/python3.8/dist-packages (from umap-learn) (1.21.6)\n",
            "Requirement already satisfied: scikit-learn>=0.22 in /usr/local/lib/python3.8/dist-packages (from umap-learn) (1.0.2)\n",
            "Requirement already satisfied: scipy>=1.0 in /usr/local/lib/python3.8/dist-packages (from umap-learn) (1.7.3)\n",
            "Requirement already satisfied: numba>=0.49 in /usr/local/lib/python3.8/dist-packages (from umap-learn) (0.56.4)\n",
            "Collecting pynndescent>=0.5\n",
            "  Downloading pynndescent-0.5.8.tar.gz (1.1 MB)\n",
            "\u001b[2K     \u001b[90m━━━━━━━━━━━━━━━━━━━━━━━━━━━━━━━━━━━━━━━━\u001b[0m \u001b[32m1.1/1.1 MB\u001b[0m \u001b[31m64.3 MB/s\u001b[0m eta \u001b[36m0:00:00\u001b[0m\n",
            "\u001b[?25h  Preparing metadata (setup.py) ... \u001b[?25l\u001b[?25hdone\n",
            "Requirement already satisfied: tqdm in /usr/local/lib/python3.8/dist-packages (from umap-learn) (4.64.1)\n",
            "Requirement already satisfied: llvmlite<0.40,>=0.39.0dev0 in /usr/local/lib/python3.8/dist-packages (from numba>=0.49->umap-learn) (0.39.1)\n",
            "Requirement already satisfied: importlib-metadata in /usr/local/lib/python3.8/dist-packages (from numba>=0.49->umap-learn) (6.0.0)\n",
            "Requirement already satisfied: setuptools in /usr/local/lib/python3.8/dist-packages (from numba>=0.49->umap-learn) (57.4.0)\n",
            "Requirement already satisfied: joblib>=0.11 in /usr/local/lib/python3.8/dist-packages (from pynndescent>=0.5->umap-learn) (1.2.0)\n",
            "Requirement already satisfied: threadpoolctl>=2.0.0 in /usr/local/lib/python3.8/dist-packages (from scikit-learn>=0.22->umap-learn) (3.1.0)\n",
            "Requirement already satisfied: zipp>=0.5 in /usr/local/lib/python3.8/dist-packages (from importlib-metadata->numba>=0.49->umap-learn) (3.12.1)\n",
            "Building wheels for collected packages: umap-learn, pynndescent\n",
            "  Building wheel for umap-learn (setup.py) ... \u001b[?25l\u001b[?25hdone\n",
            "  Created wheel for umap-learn: filename=umap_learn-0.5.3-py3-none-any.whl size=82829 sha256=cbea5efbcbd839879578ea36556c28333366729037353b1d6248ccd05c28bb98\n",
            "  Stored in directory: /root/.cache/pip/wheels/a9/3a/67/06a8950e053725912e6a8c42c4a3a241410f6487b8402542ea\n",
            "  Building wheel for pynndescent (setup.py) ... \u001b[?25l\u001b[?25hdone\n",
            "  Created wheel for pynndescent: filename=pynndescent-0.5.8-py3-none-any.whl size=55513 sha256=8d95ee74f52875f5ac3c6e10d386d9136687da2920cd9ea3e6d1fd340d45eb09\n",
            "  Stored in directory: /root/.cache/pip/wheels/1c/63/3a/29954bca1a27ba100ed8c27973a78cb71b43dc67aed62e80c3\n",
            "Successfully built umap-learn pynndescent\n",
            "Installing collected packages: pynndescent, umap-learn\n",
            "Successfully installed pynndescent-0.5.8 umap-learn-0.5.3\n"
          ]
        }
      ]
    },
    {
      "cell_type": "code",
      "source": [
        "#UMAP\n",
        "import umap.umap_ as umap\n",
        "umap_dimred = umap.UMAP(n_components=50)\n",
        "umap_features = umap_dimred.fit_transform(f_all)\n"
      ],
      "metadata": {
        "id": "y36oAfjg8PPP"
      },
      "execution_count": 11,
      "outputs": []
    },
    {
      "cell_type": "code",
      "source": [
        "!pip install hdbscan"
      ],
      "metadata": {
        "colab": {
          "base_uri": "https://localhost:8080/"
        },
        "id": "lCOzDEPX8mtP",
        "outputId": "e44393c3-3fcf-40e2-b6aa-e466d41aa0f2"
      },
      "execution_count": 12,
      "outputs": [
        {
          "output_type": "stream",
          "name": "stdout",
          "text": [
            "Looking in indexes: https://pypi.org/simple, https://us-python.pkg.dev/colab-wheels/public/simple/\n",
            "Collecting hdbscan\n",
            "  Downloading hdbscan-0.8.29.tar.gz (5.2 MB)\n",
            "\u001b[2K     \u001b[90m━━━━━━━━━━━━━━━━━━━━━━━━━━━━━━━━━━━━━━━━\u001b[0m \u001b[32m5.2/5.2 MB\u001b[0m \u001b[31m81.3 MB/s\u001b[0m eta \u001b[36m0:00:00\u001b[0m\n",
            "\u001b[?25h  Installing build dependencies ... \u001b[?25l\u001b[?25hdone\n",
            "  Getting requirements to build wheel ... \u001b[?25l\u001b[?25hdone\n",
            "  Preparing metadata (pyproject.toml) ... \u001b[?25l\u001b[?25hdone\n",
            "Requirement already satisfied: scikit-learn>=0.20 in /usr/local/lib/python3.8/dist-packages (from hdbscan) (1.0.2)\n",
            "Requirement already satisfied: joblib>=1.0 in /usr/local/lib/python3.8/dist-packages (from hdbscan) (1.2.0)\n",
            "Requirement already satisfied: numpy>=1.20 in /usr/local/lib/python3.8/dist-packages (from hdbscan) (1.21.6)\n",
            "Requirement already satisfied: cython>=0.27 in /usr/local/lib/python3.8/dist-packages (from hdbscan) (0.29.33)\n",
            "Requirement already satisfied: scipy>=1.0 in /usr/local/lib/python3.8/dist-packages (from hdbscan) (1.7.3)\n",
            "Requirement already satisfied: threadpoolctl>=2.0.0 in /usr/local/lib/python3.8/dist-packages (from scikit-learn>=0.20->hdbscan) (3.1.0)\n",
            "Building wheels for collected packages: hdbscan\n",
            "  Building wheel for hdbscan (pyproject.toml) ... \u001b[?25l\u001b[?25hdone\n",
            "  Created wheel for hdbscan: filename=hdbscan-0.8.29-cp38-cp38-linux_x86_64.whl size=3773934 sha256=c37293173522add8149182fa6d98937687c8749b17df6db03fbc48f6cdd70ffd\n",
            "  Stored in directory: /root/.cache/pip/wheels/76/06/48/527e038689c581cc9e519c73840efdc7473805149e55bd7ffd\n",
            "Successfully built hdbscan\n",
            "Installing collected packages: hdbscan\n",
            "Successfully installed hdbscan-0.8.29\n"
          ]
        }
      ]
    },
    {
      "cell_type": "code",
      "source": [
        "from sklearn.cluster import KMeans\n",
        "km = KMeans(n_clusters=5, random_state=0)\n",
        "\n",
        "from sklearn.cluster import AgglomerativeClustering\n",
        "agglomerative_clustering = AgglomerativeClustering(n_clusters=5)\n",
        "\n",
        "import hdbscan\n",
        "\n",
        "\n",
        "predictions_kMeans = km.fit_predict(f_all)\n",
        "predictions_AC = agglomerative_clustering.fit_predict(f_all)\n",
        "km_score = adjusted_rand_score(y_all,predictions_kMeans)\n",
        "agg_score = adjusted_rand_score(y_all,predictions_AC)\n",
        "print(\"Adjusted Rand score \" + \"all features from feature extractor\" + ' km: ',km_score)\n",
        "print(\"Adjusted Rand score \" + \"all features from feature extractor\" + ' agg: ',agg_score)\n",
        "    "
      ],
      "metadata": {
        "colab": {
          "base_uri": "https://localhost:8080/"
        },
        "id": "f3ojL2Qm-jQ2",
        "outputId": "c5b6848d-1ad8-4896-b220-06a3b1a4b0bd"
      },
      "execution_count": 13,
      "outputs": [
        {
          "output_type": "stream",
          "name": "stdout",
          "text": [
            "Adjusted Rand score all features from feature extractor km:  0.18731544709138986\n",
            "Adjusted Rand score all features from feature extractor agg:  0.18855278251971858\n"
          ]
        }
      ]
    },
    {
      "cell_type": "code",
      "source": [
        "from sklearn.cluster import KMeans\n",
        "km = KMeans(n_clusters=5, random_state=0)\n",
        "\n",
        "from sklearn.cluster import AgglomerativeClustering\n",
        "agglomerative_clustering = AgglomerativeClustering(n_clusters=5)\n",
        "\n",
        "import hdbscan\n",
        "\n",
        "\n",
        "predictions_kMeans = km.fit_predict(auto_features)\n",
        "predictions_AC = agglomerative_clustering.fit_predict(auto_features)\n",
        "km_score = adjusted_rand_score(y_all,predictions_kMeans)\n",
        "agg_score = adjusted_rand_score(y_all,predictions_AC)\n",
        "print(\"Adjusted Rand score \" + \"autoencoder features\" + ' km: ',km_score)\n",
        "print(\"Adjusted Rand score \" + \"autoencoder features\" + ' agg: ',agg_score)\n",
        "    "
      ],
      "metadata": {
        "colab": {
          "base_uri": "https://localhost:8080/"
        },
        "id": "aldBjfRx_a9P",
        "outputId": "9ed7126f-6cdc-47a5-df3b-892be476f2e3"
      },
      "execution_count": 14,
      "outputs": [
        {
          "output_type": "stream",
          "name": "stdout",
          "text": [
            "Adjusted Rand score autoencoder features km:  0.19430478574276652\n",
            "Adjusted Rand score autoencoder features agg:  0.18384284794744007\n"
          ]
        }
      ]
    },
    {
      "cell_type": "code",
      "source": [
        "from sklearn.cluster import KMeans\n",
        "km = KMeans(n_clusters=5, random_state=0)\n",
        "\n",
        "from sklearn.cluster import AgglomerativeClustering\n",
        "agglomerative_clustering = AgglomerativeClustering(n_clusters=5)\n",
        "\n",
        "import hdbscan\n",
        "\n",
        "\n",
        "predictions_kMeans = km.fit_predict(umap_features)\n",
        "predictions_AC = agglomerative_clustering.fit_predict(umap_features)\n",
        "km_score = adjusted_rand_score(y_all,predictions_kMeans)\n",
        "agg_score = adjusted_rand_score(y_all,predictions_AC)\n",
        "print(\"Adjusted Rand score \" + \"UMAP Features\" + ' km: ',km_score)\n",
        "print(\"Adjusted Rand score \" + \"UMAP Features\" + ' agg: ',agg_score)\n",
        "    "
      ],
      "metadata": {
        "colab": {
          "base_uri": "https://localhost:8080/"
        },
        "id": "53PuLUFOALNL",
        "outputId": "e7cc9497-fcd1-4c60-88e8-d16a0c1a3266"
      },
      "execution_count": 15,
      "outputs": [
        {
          "output_type": "stream",
          "name": "stdout",
          "text": [
            "Adjusted Rand score UMAP Features km:  0.39687700269285764\n",
            "Adjusted Rand score UMAP Features agg:  0.3716795658820211\n"
          ]
        }
      ]
    },
    {
      "cell_type": "code",
      "source": [
        "from sklearn.cluster import KMeans\n",
        "km = KMeans(n_clusters=5, random_state=0)\n",
        "\n",
        "from sklearn.cluster import AgglomerativeClustering\n",
        "agglomerative_clustering = AgglomerativeClustering(n_clusters=5)\n",
        "\n",
        "import hdbscan\n",
        "\n",
        "\n",
        "predictions_kMeans = km.fit_predict(svd_features)\n",
        "predictions_AC = agglomerative_clustering.fit_predict(svd_features)\n",
        "km_score = adjusted_rand_score(y_all,predictions_kMeans)\n",
        "agg_score = adjusted_rand_score(y_all,predictions_AC)\n",
        "print(\"Adjusted Rand score \" + \"SVD Features\" + ' km: ',km_score)\n",
        "print(\"Adjusted Rand score \" + \"SVD Features\" + ' agg: ',agg_score)"
      ],
      "metadata": {
        "colab": {
          "base_uri": "https://localhost:8080/"
        },
        "id": "u2jPYe75Aqh0",
        "outputId": "357db910-3e56-4ab5-901f-10a02a659f19"
      },
      "execution_count": 20,
      "outputs": [
        {
          "output_type": "stream",
          "name": "stdout",
          "text": [
            "Adjusted Rand score SVD Features km:  0.18978407861157423\n",
            "Adjusted Rand score SVD Features agg:  0.21367520027920808\n"
          ]
        }
      ]
    },
    {
      "cell_type": "code",
      "source": [
        "import hdbscan\n",
        "for mc in [2,5,10]:\n",
        "    for ms in [1,2,4]:\n",
        "        if ms > mc:\n",
        "            pass\n",
        "        else:\n",
        "            scanner = hdbscan.HDBSCAN(min_cluster_size=mc, min_samples=ms)\n",
        "            predictions = scanner.fit_predict(f_all)\n",
        "            prediction_score = adjusted_rand_score(y_all,predictions)\n",
        "            print(\"Adjusted Rand score \" + ' min cluster: '+ str(mc) + ' min samples: '+ str(ms) + ' HDB: ',prediction_score)"
      ],
      "metadata": {
        "colab": {
          "base_uri": "https://localhost:8080/",
          "height": 505
        },
        "id": "y_Izn-nXEl5x",
        "outputId": "d3e4ccf3-ec4c-4e9e-bdd7-ac089d0cb1c9"
      },
      "execution_count": 21,
      "outputs": [
        {
          "output_type": "stream",
          "name": "stdout",
          "text": [
            "Adjusted Rand score  min cluster: 2 min samples: 1 HDB:  -0.00010687912068650112\n",
            "Adjusted Rand score  min cluster: 2 min samples: 2 HDB:  0.017217053170958962\n",
            "Adjusted Rand score  min cluster: 5 min samples: 1 HDB:  0.014983034591038287\n",
            "Adjusted Rand score  min cluster: 5 min samples: 2 HDB:  0.016254465836581453\n",
            "Adjusted Rand score  min cluster: 5 min samples: 4 HDB:  0.0024065502160805084\n",
            "Adjusted Rand score  min cluster: 10 min samples: 1 HDB:  0.015014212771105666\n"
          ]
        },
        {
          "output_type": "error",
          "ename": "KeyboardInterrupt",
          "evalue": "ignored",
          "traceback": [
            "\u001b[0;31m---------------------------------------------------------------------------\u001b[0m",
            "\u001b[0;31mKeyboardInterrupt\u001b[0m                         Traceback (most recent call last)",
            "\u001b[0;32m<ipython-input-21-bb88399cdf13>\u001b[0m in \u001b[0;36m<module>\u001b[0;34m\u001b[0m\n\u001b[1;32m      6\u001b[0m         \u001b[0;32melse\u001b[0m\u001b[0;34m:\u001b[0m\u001b[0;34m\u001b[0m\u001b[0;34m\u001b[0m\u001b[0m\n\u001b[1;32m      7\u001b[0m             \u001b[0mscanner\u001b[0m \u001b[0;34m=\u001b[0m \u001b[0mhdbscan\u001b[0m\u001b[0;34m.\u001b[0m\u001b[0mHDBSCAN\u001b[0m\u001b[0;34m(\u001b[0m\u001b[0mmin_cluster_size\u001b[0m\u001b[0;34m=\u001b[0m\u001b[0mmc\u001b[0m\u001b[0;34m,\u001b[0m \u001b[0mmin_samples\u001b[0m\u001b[0;34m=\u001b[0m\u001b[0mms\u001b[0m\u001b[0;34m)\u001b[0m\u001b[0;34m\u001b[0m\u001b[0;34m\u001b[0m\u001b[0m\n\u001b[0;32m----> 8\u001b[0;31m             \u001b[0mpredictions\u001b[0m \u001b[0;34m=\u001b[0m \u001b[0mscanner\u001b[0m\u001b[0;34m.\u001b[0m\u001b[0mfit_predict\u001b[0m\u001b[0;34m(\u001b[0m\u001b[0mf_all\u001b[0m\u001b[0;34m)\u001b[0m\u001b[0;34m\u001b[0m\u001b[0;34m\u001b[0m\u001b[0m\n\u001b[0m\u001b[1;32m      9\u001b[0m             \u001b[0mprediction_score\u001b[0m \u001b[0;34m=\u001b[0m \u001b[0madjusted_rand_score\u001b[0m\u001b[0;34m(\u001b[0m\u001b[0my_all\u001b[0m\u001b[0;34m,\u001b[0m\u001b[0mpredictions\u001b[0m\u001b[0;34m)\u001b[0m\u001b[0;34m\u001b[0m\u001b[0;34m\u001b[0m\u001b[0m\n\u001b[1;32m     10\u001b[0m             \u001b[0mprint\u001b[0m\u001b[0;34m(\u001b[0m\u001b[0;34m\"Adjusted Rand score \"\u001b[0m \u001b[0;34m+\u001b[0m \u001b[0;34m' min cluster: '\u001b[0m\u001b[0;34m+\u001b[0m \u001b[0mstr\u001b[0m\u001b[0;34m(\u001b[0m\u001b[0mmc\u001b[0m\u001b[0;34m)\u001b[0m \u001b[0;34m+\u001b[0m \u001b[0;34m' min samples: '\u001b[0m\u001b[0;34m+\u001b[0m \u001b[0mstr\u001b[0m\u001b[0;34m(\u001b[0m\u001b[0mms\u001b[0m\u001b[0;34m)\u001b[0m \u001b[0;34m+\u001b[0m \u001b[0;34m' HDB: '\u001b[0m\u001b[0;34m,\u001b[0m\u001b[0mprediction_score\u001b[0m\u001b[0;34m)\u001b[0m\u001b[0;34m\u001b[0m\u001b[0;34m\u001b[0m\u001b[0m\n",
            "\u001b[0;32m/usr/local/lib/python3.8/dist-packages/hdbscan/hdbscan_.py\u001b[0m in \u001b[0;36mfit_predict\u001b[0;34m(self, X, y)\u001b[0m\n\u001b[1;32m   1226\u001b[0m             \u001b[0mcluster\u001b[0m \u001b[0mlabels\u001b[0m\u001b[0;34m\u001b[0m\u001b[0;34m\u001b[0m\u001b[0m\n\u001b[1;32m   1227\u001b[0m         \"\"\"\n\u001b[0;32m-> 1228\u001b[0;31m         \u001b[0mself\u001b[0m\u001b[0;34m.\u001b[0m\u001b[0mfit\u001b[0m\u001b[0;34m(\u001b[0m\u001b[0mX\u001b[0m\u001b[0;34m)\u001b[0m\u001b[0;34m\u001b[0m\u001b[0;34m\u001b[0m\u001b[0m\n\u001b[0m\u001b[1;32m   1229\u001b[0m         \u001b[0;32mreturn\u001b[0m \u001b[0mself\u001b[0m\u001b[0;34m.\u001b[0m\u001b[0mlabels_\u001b[0m\u001b[0;34m\u001b[0m\u001b[0;34m\u001b[0m\u001b[0m\n\u001b[1;32m   1230\u001b[0m \u001b[0;34m\u001b[0m\u001b[0m\n",
            "\u001b[0;32m/usr/local/lib/python3.8/dist-packages/hdbscan/hdbscan_.py\u001b[0m in \u001b[0;36mfit\u001b[0;34m(self, X, y)\u001b[0m\n\u001b[1;32m   1188\u001b[0m             \u001b[0mself\u001b[0m\u001b[0;34m.\u001b[0m\u001b[0m_single_linkage_tree\u001b[0m\u001b[0;34m,\u001b[0m\u001b[0;34m\u001b[0m\u001b[0;34m\u001b[0m\u001b[0m\n\u001b[1;32m   1189\u001b[0m             \u001b[0mself\u001b[0m\u001b[0;34m.\u001b[0m\u001b[0m_min_spanning_tree\u001b[0m\u001b[0;34m,\u001b[0m\u001b[0;34m\u001b[0m\u001b[0;34m\u001b[0m\u001b[0m\n\u001b[0;32m-> 1190\u001b[0;31m         ) = hdbscan(clean_data, **kwargs)\n\u001b[0m\u001b[1;32m   1191\u001b[0m \u001b[0;34m\u001b[0m\u001b[0m\n\u001b[1;32m   1192\u001b[0m         \u001b[0;32mif\u001b[0m \u001b[0mself\u001b[0m\u001b[0;34m.\u001b[0m\u001b[0mmetric\u001b[0m \u001b[0;34m!=\u001b[0m \u001b[0;34m\"precomputed\"\u001b[0m \u001b[0;32mand\u001b[0m \u001b[0;32mnot\u001b[0m \u001b[0mself\u001b[0m\u001b[0;34m.\u001b[0m\u001b[0m_all_finite\u001b[0m\u001b[0;34m:\u001b[0m\u001b[0;34m\u001b[0m\u001b[0;34m\u001b[0m\u001b[0m\n",
            "\u001b[0;32m/usr/local/lib/python3.8/dist-packages/hdbscan/hdbscan_.py\u001b[0m in \u001b[0;36mhdbscan\u001b[0;34m(X, min_cluster_size, min_samples, alpha, cluster_selection_epsilon, max_cluster_size, metric, p, leaf_size, algorithm, memory, approx_min_span_tree, gen_min_span_tree, core_dist_n_jobs, cluster_selection_method, allow_single_cluster, match_reference_implementation, **kwargs)\u001b[0m\n\u001b[1;32m    807\u001b[0m             \u001b[0;31m# still debugging for now\u001b[0m\u001b[0;34m\u001b[0m\u001b[0;34m\u001b[0m\u001b[0;34m\u001b[0m\u001b[0m\n\u001b[1;32m    808\u001b[0m             \u001b[0;32mif\u001b[0m \u001b[0mX\u001b[0m\u001b[0;34m.\u001b[0m\u001b[0mshape\u001b[0m\u001b[0;34m[\u001b[0m\u001b[0;36m1\u001b[0m\u001b[0;34m]\u001b[0m \u001b[0;34m>\u001b[0m \u001b[0;36m60\u001b[0m\u001b[0;34m:\u001b[0m\u001b[0;34m\u001b[0m\u001b[0;34m\u001b[0m\u001b[0m\n\u001b[0;32m--> 809\u001b[0;31m                 (single_linkage_tree, result_min_span_tree) = memory.cache(\n\u001b[0m\u001b[1;32m    810\u001b[0m                     \u001b[0m_hdbscan_prims_kdtree\u001b[0m\u001b[0;34m\u001b[0m\u001b[0;34m\u001b[0m\u001b[0m\n\u001b[1;32m    811\u001b[0m                 \u001b[0;34m)\u001b[0m\u001b[0;34m(\u001b[0m\u001b[0;34m\u001b[0m\u001b[0;34m\u001b[0m\u001b[0m\n",
            "\u001b[0;32m/usr/local/lib/python3.8/dist-packages/joblib/memory.py\u001b[0m in \u001b[0;36m__call__\u001b[0;34m(self, *args, **kwargs)\u001b[0m\n\u001b[1;32m    347\u001b[0m \u001b[0;34m\u001b[0m\u001b[0m\n\u001b[1;32m    348\u001b[0m     \u001b[0;32mdef\u001b[0m \u001b[0m__call__\u001b[0m\u001b[0;34m(\u001b[0m\u001b[0mself\u001b[0m\u001b[0;34m,\u001b[0m \u001b[0;34m*\u001b[0m\u001b[0margs\u001b[0m\u001b[0;34m,\u001b[0m \u001b[0;34m**\u001b[0m\u001b[0mkwargs\u001b[0m\u001b[0;34m)\u001b[0m\u001b[0;34m:\u001b[0m\u001b[0;34m\u001b[0m\u001b[0;34m\u001b[0m\u001b[0m\n\u001b[0;32m--> 349\u001b[0;31m         \u001b[0;32mreturn\u001b[0m \u001b[0mself\u001b[0m\u001b[0;34m.\u001b[0m\u001b[0mfunc\u001b[0m\u001b[0;34m(\u001b[0m\u001b[0;34m*\u001b[0m\u001b[0margs\u001b[0m\u001b[0;34m,\u001b[0m \u001b[0;34m**\u001b[0m\u001b[0mkwargs\u001b[0m\u001b[0;34m)\u001b[0m\u001b[0;34m\u001b[0m\u001b[0;34m\u001b[0m\u001b[0m\n\u001b[0m\u001b[1;32m    350\u001b[0m \u001b[0;34m\u001b[0m\u001b[0m\n\u001b[1;32m    351\u001b[0m     \u001b[0;32mdef\u001b[0m \u001b[0mcall_and_shelve\u001b[0m\u001b[0;34m(\u001b[0m\u001b[0mself\u001b[0m\u001b[0;34m,\u001b[0m \u001b[0;34m*\u001b[0m\u001b[0margs\u001b[0m\u001b[0;34m,\u001b[0m \u001b[0;34m**\u001b[0m\u001b[0mkwargs\u001b[0m\u001b[0;34m)\u001b[0m\u001b[0;34m:\u001b[0m\u001b[0;34m\u001b[0m\u001b[0;34m\u001b[0m\u001b[0m\n",
            "\u001b[0;32m/usr/local/lib/python3.8/dist-packages/hdbscan/hdbscan_.py\u001b[0m in \u001b[0;36m_hdbscan_prims_kdtree\u001b[0;34m(X, min_samples, alpha, metric, p, leaf_size, gen_min_span_tree, **kwargs)\u001b[0m\n\u001b[1;32m    248\u001b[0m \u001b[0;34m\u001b[0m\u001b[0m\n\u001b[1;32m    249\u001b[0m     \u001b[0;31m# Mutual reachability distance is implicit in mst_linkage_core_vector\u001b[0m\u001b[0;34m\u001b[0m\u001b[0;34m\u001b[0m\u001b[0;34m\u001b[0m\u001b[0m\n\u001b[0;32m--> 250\u001b[0;31m     \u001b[0mmin_spanning_tree\u001b[0m \u001b[0;34m=\u001b[0m \u001b[0mmst_linkage_core_vector\u001b[0m\u001b[0;34m(\u001b[0m\u001b[0mX\u001b[0m\u001b[0;34m,\u001b[0m \u001b[0mcore_distances\u001b[0m\u001b[0;34m,\u001b[0m \u001b[0mdist_metric\u001b[0m\u001b[0;34m,\u001b[0m \u001b[0malpha\u001b[0m\u001b[0;34m)\u001b[0m\u001b[0;34m\u001b[0m\u001b[0;34m\u001b[0m\u001b[0m\n\u001b[0m\u001b[1;32m    251\u001b[0m \u001b[0;34m\u001b[0m\u001b[0m\n\u001b[1;32m    252\u001b[0m     \u001b[0;31m# Sort edges of the min_spanning_tree by weight\u001b[0m\u001b[0;34m\u001b[0m\u001b[0;34m\u001b[0m\u001b[0;34m\u001b[0m\u001b[0m\n",
            "\u001b[0;31mKeyboardInterrupt\u001b[0m: "
          ]
        }
      ]
    },
    {
      "cell_type": "code",
      "source": [
        "np.savetxt('f_all.txt', f_all, fmt='%d')\n",
        "np.savetxt('y_all.txt', y_all, fmt='%d')\n"
      ],
      "metadata": {
        "id": "Q6lpTPwPR1mj"
      },
      "execution_count": 13,
      "outputs": []
    },
    {
      "cell_type": "code",
      "source": [
        "np.savetxt('auto.txt', auto_features, fmt='%d')\n",
        "np.savetxt('umap.txt', umap_features, fmt='%d')\n",
        "np.savetxt('svd.txt', svd_features, fmt='%d')\n"
      ],
      "metadata": {
        "id": "I8Ibde8LTj_t"
      },
      "execution_count": 14,
      "outputs": []
    },
    {
      "cell_type": "code",
      "source": [
        "class MLP(torch.nn.Module):\n",
        "    def __init__(self, num_features):\n",
        "        super().__init__()\n",
        "        self.model = nn.Sequential(\n",
        "            nn.Linear(num_features, 1280),\n",
        "            nn.ReLU(True),\n",
        "            nn.Linear(1280, 640),\n",
        "            nn.ReLU(True), \n",
        "            nn.Linear(640, 5),\n",
        "            nn.LogSoftmax(dim=1)\n",
        "        )\n",
        "        self.cuda()\n",
        "    \n",
        "    \n",
        "    def forward(self, X):\n",
        "        return self.model(X)\n",
        "    \n",
        "    def train(self, X, y):\n",
        "        X = torch.tensor(X, dtype=torch.float32, device='cuda')\n",
        "        y = torch.tensor(y, dtype=torch.int64, device='cuda')\n",
        "\n",
        "        self.model.train()\n",
        "        \n",
        "        criterion = nn.NLLLoss()\n",
        "        optimizer = torch.optim.Adam(self.parameters(), lr=1e-3, weight_decay=1e-5)\n",
        "\n",
        "        dataset = TensorDataset(X, y)\n",
        "        dataloader = DataLoader(dataset, batch_size=128, shuffle=True)\n",
        "\n",
        "        for epoch in tqdm(range(100)):\n",
        "            for (X_, y_) in dataloader:\n",
        "                X_ = X_.cuda()\n",
        "                y_ = y_.cuda()\n",
        "                # ===================forward=====================\n",
        "                output = self(X_)\n",
        "                loss = criterion(output, y_)\n",
        "                # ===================backward====================\n",
        "                optimizer.zero_grad()\n",
        "                loss.backward()\n",
        "                optimizer.step()\n",
        "        return self\n",
        "    \n",
        "    def eval(self, X_test, y_test):\n",
        "        criterion = nn.NLLLoss()\n",
        "        X_test = torch.tensor(X_test, dtype=torch.float32, device='cuda')\n",
        "        y_test = torch.tensor(y_test, dtype=torch.int64, device='cuda')\n",
        "\n",
        "        with torch.no_grad(): \n",
        "            X_test = X_test.cuda()\n",
        "            y_test = y_test.cuda()\n",
        "            # ===================forward=====================\n",
        "            output = self(X_test)\n",
        "            output = output.cpu().numpy()\n",
        "            output = np.argmax(output, axis = 1)\n",
        "            print(adjusted_rand_score(output, y_test.cpu().numpy()))\n",
        "   "
      ],
      "metadata": {
        "id": "0-UVxRrgIJmp"
      },
      "execution_count": 30,
      "outputs": []
    },
    {
      "cell_type": "code",
      "source": [
        "f_all.shape"
      ],
      "metadata": {
        "colab": {
          "base_uri": "https://localhost:8080/"
        },
        "id": "epi-ZokqLRxu",
        "outputId": "3b584f7e-1584-4743-92ad-d14e1407504f"
      },
      "execution_count": 23,
      "outputs": [
        {
          "output_type": "execute_result",
          "data": {
            "text/plain": [
              "(3670, 4096)"
            ]
          },
          "metadata": {},
          "execution_count": 23
        }
      ]
    },
    {
      "cell_type": "code",
      "source": [
        "neural_net = MLP(4096)\n",
        "neural_net.train(f_all[:3000], y_all[:3000])\n",
        "neural_net.eval(f_all[3000:], y_all[3000:])"
      ],
      "metadata": {
        "colab": {
          "base_uri": "https://localhost:8080/"
        },
        "id": "MuWL8V7LIKqk",
        "outputId": "306a6523-4240-4736-b496-32384aac4eee"
      },
      "execution_count": 31,
      "outputs": [
        {
          "output_type": "stream",
          "name": "stderr",
          "text": [
            "100%|██████████| 100/100 [00:09<00:00, 10.97it/s]\n"
          ]
        },
        {
          "output_type": "stream",
          "name": "stdout",
          "text": [
            "0.7790269979069826\n"
          ]
        }
      ]
    },
    {
      "cell_type": "code",
      "source": [],
      "metadata": {
        "id": "4lJ62PPNWGZH"
      },
      "execution_count": null,
      "outputs": []
    },
    {
      "cell_type": "code",
      "source": [
        "neural_net = MLP(50)\n",
        "neural_net.train(auto_features[:3000], y_all[:3000])\n",
        "neural_net.eval(auto_features[3000:], y_all[3000:])"
      ],
      "metadata": {
        "colab": {
          "base_uri": "https://localhost:8080/"
        },
        "id": "F1sLCuQWMZ4n",
        "outputId": "8f7855c8-dbe6-4ead-b5cb-edaacf91ea86"
      },
      "execution_count": 32,
      "outputs": [
        {
          "output_type": "stream",
          "name": "stderr",
          "text": [
            "100%|██████████| 100/100 [00:07<00:00, 13.85it/s]"
          ]
        },
        {
          "output_type": "stream",
          "name": "stdout",
          "text": [
            "0.732005226175076\n"
          ]
        },
        {
          "output_type": "stream",
          "name": "stderr",
          "text": [
            "\n"
          ]
        }
      ]
    },
    {
      "cell_type": "code",
      "source": [
        "import hdbscan\n",
        "for mc in [8,16,32]:\n",
        "    for ms in [8,12,16]:\n",
        "        if ms > mc:\n",
        "            pass\n",
        "        else:\n",
        "            scanner = hdbscan.HDBSCAN(min_cluster_size=mc, min_samples=ms)\n",
        "            predictions = scanner.fit_predict(auto_features)\n",
        "            prediction_score = adjusted_rand_score(y_all,predictions)\n",
        "            print(\"Adjusted Rand score \" + ' min cluster: '+ str(mc) + ' min samples: '+ str(ms) + ' HDB: ',prediction_score)"
      ],
      "metadata": {
        "id": "MpjXu5sm8OJq"
      },
      "execution_count": null,
      "outputs": []
    },
    {
      "cell_type": "code",
      "source": [
        "import hdbscan\n",
        "for mc in [8,16,32]:\n",
        "    for ms in [8,12,16]:\n",
        "        if ms > mc:\n",
        "            pass\n",
        "        else:\n",
        "            scanner = hdbscan.HDBSCAN(min_cluster_size=mc, min_samples=ms)\n",
        "            predictions = scanner.fit_predict(umap_features)\n",
        "            prediction_score = adjusted_rand_score(y_all,predictions)\n",
        "            print(\"Adjusted Rand score \" + ' min cluster: '+ str(mc) + ' min samples: '+ str(ms) + ' HDB: ',prediction_score)"
      ],
      "metadata": {
        "id": "2hqy3fe8Dl90"
      },
      "execution_count": null,
      "outputs": []
    },
    {
      "cell_type": "code",
      "source": [
        "import hdbscan\n",
        "for mc in [8,16,32]:\n",
        "    for ms in [8,12,16]:\n",
        "        if ms > mc:\n",
        "            pass\n",
        "        else:\n",
        "            scanner = hdbscan.HDBSCAN(min_cluster_size=mc, min_samples=ms)\n",
        "            predictions = scanner.fit_predict(svd_features)\n",
        "            prediction_score = adjusted_rand_score(y_all,predictions)\n",
        "            print(\"Adjusted Rand score \" + ' min cluster: '+ str(mc) + ' min samples: '+ str(ms) + ' HDB: ',prediction_score)"
      ],
      "metadata": {
        "id": "YeXeRkNADmvG"
      },
      "execution_count": null,
      "outputs": []
    }
  ]
}